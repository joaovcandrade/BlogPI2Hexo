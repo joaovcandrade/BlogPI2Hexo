{
  "nbformat": 4,
  "nbformat_minor": 0,
  "metadata": {
    "colab": {
      "name": "Euler22.ipynb",
      "provenance": [],
      "collapsed_sections": [],
      "toc_visible": true,
      "authorship_tag": "ABX9TyOrUpJP0bq9qKWMWg1M0dPd",
      "include_colab_link": true
    },
    "kernelspec": {
      "name": "python3",
      "display_name": "Python 3"
    }
  },
  "cells": [
    {
      "cell_type": "markdown",
      "metadata": {
        "id": "view-in-github",
        "colab_type": "text"
      },
      "source": [
        "<a href=\"https://colab.research.google.com/github/joaovcandrade/BlogPI2Hexo/blob/master/Euler22.ipynb\" target=\"_parent\"><img src=\"https://colab.research.google.com/assets/colab-badge.svg\" alt=\"Open In Colab\"/></a>"
      ]
    },
    {
      "cell_type": "markdown",
      "metadata": {
        "id": "7O7WcBuKrl3f",
        "colab_type": "text"
      },
      "source": [
        "Leitura do arquivo local"
      ]
    },
    {
      "cell_type": "code",
      "metadata": {
        "id": "39yqhAkQr7rq",
        "colab_type": "code",
        "colab": {}
      },
      "source": [
        "def euler22():\n",
        "    file = open(\"./names.txt\", 'r')\n",
        "\n",
        "    text = file.read()\n",
        "    text = text.replace(\"\\\"\", \"\")\n",
        "    nomes =  text.split(\",\")\n",
        "    nomes.sort()\n",
        "\n",
        "    print(calcRanking(nomes))\n"
      ],
      "execution_count": 0,
      "outputs": []
    },
    {
      "cell_type": "markdown",
      "metadata": {
        "id": "uISwsUYrr8Uy",
        "colab_type": "text"
      },
      "source": [
        "Pegar a posição do caracter na tabela ASCII (Ordenada alfabéticamente)"
      ]
    },
    {
      "cell_type": "code",
      "metadata": {
        "id": "PxNKfP6lFlof",
        "colab_type": "code",
        "cellView": "both",
        "colab": {}
      },
      "source": [
        "\n",
        "def posicaoAscii(w):\n",
        "  return ord(w) -64"
      ],
      "execution_count": 0,
      "outputs": []
    },
    {
      "cell_type": "markdown",
      "metadata": {
        "id": "TLZpohL4sFOw",
        "colab_type": "text"
      },
      "source": [
        "Calcula a pontuação"
      ]
    },
    {
      "cell_type": "code",
      "metadata": {
        "id": "K2zCIlQcsE_d",
        "colab_type": "code",
        "colab": {}
      },
      "source": [
        "def calcRanking(nomes):\n",
        "  soma = 0\n",
        "\n",
        "  for idx, n in enumerate(nomes, start=1):  \n",
        "    chars = list(n)\n",
        "    somaChars = 0\n",
        "\n",
        "    for c in chars:\n",
        "      somaChars += posicaoAscii(c)\n",
        "\n",
        "    soma += somaChars*idx\n",
        "\n",
        "  return soma"
      ],
      "execution_count": 0,
      "outputs": []
    },
    {
      "cell_type": "code",
      "metadata": {
        "id": "Ydy1UA7ZsSR5",
        "colab_type": "code",
        "outputId": "360c00af-4f8e-4dba-e882-b702d242ebfc",
        "colab": {
          "base_uri": "https://localhost:8080/",
          "height": 34
        }
      },
      "source": [
        "euler22()"
      ],
      "execution_count": 0,
      "outputs": [
        {
          "output_type": "stream",
          "text": [
            "871198282\n"
          ],
          "name": "stdout"
        }
      ]
    }
  ]
}